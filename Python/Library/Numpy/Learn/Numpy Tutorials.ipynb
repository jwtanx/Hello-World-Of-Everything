{
 "cells": [
  {
   "cell_type": "markdown",
   "metadata": {},
   "source": [
    "# Numpy Basic Tutorials\n",
    "---\n",
    "YouTube Channel: [codebasics](https://www.youtube.com/channel/UCh9nVJoWXmFb7sLApWGcLPQ)    \n",
    "Reference: https://www.youtube.com/playlist?list=PLeo1K3hjS3uset9zIVzJWqplaWBiacTEU"
   ]
  },
  {
   "cell_type": "markdown",
   "metadata": {},
   "source": [
    "### > Numpy Tutorial 1: Introduction\n",
    "Reference: https://www.youtube.com/watch?v=rN0TREj8G7U"
   ]
  },
  {
   "cell_type": "code",
   "execution_count": 1,
   "metadata": {},
   "outputs": [],
   "source": [
    "# First thing first - installing numpy\n",
    "'''\n",
    "$ pip install numpy\n",
    "'''\n",
    "\n",
    "# Second - Import it\n",
    "import numpy as np # NOTE: np is just an alias, it can be any name you want"
   ]
  },
  {
   "cell_type": "code",
   "execution_count": 2,
   "metadata": {},
   "outputs": [],
   "source": [
    "# Creating a one dimensional array\n",
    "A = np.array([1,2,3])"
   ]
  },
  {
   "cell_type": "code",
   "execution_count": 3,
   "metadata": {},
   "outputs": [
    {
     "data": {
      "text/plain": [
       "array([1, 2, 3])"
      ]
     },
     "execution_count": 3,
     "metadata": {},
     "output_type": "execute_result"
    }
   ],
   "source": [
    "# Jupyter special way of seeing the content of `A` array\n",
    "A"
   ]
  },
  {
   "cell_type": "code",
   "execution_count": 4,
   "metadata": {},
   "outputs": [
    {
     "name": "stdout",
     "output_type": "stream",
     "text": [
      "[1 2 3]\n"
     ]
    }
   ],
   "source": [
    "# NOTE: See that the output is unlike the above method. Jupyter allows you to see the content of the\n",
    "# array wihout printing it explicitly\n",
    "print(A)"
   ]
  },
  {
   "cell_type": "code",
   "execution_count": 5,
   "metadata": {},
   "outputs": [
    {
     "data": {
      "text/plain": [
       "1"
      ]
     },
     "execution_count": 5,
     "metadata": {},
     "output_type": "execute_result"
    }
   ],
   "source": [
    "# This is very similar to a list but there are huge difference as compared to the python list\n",
    "A[0]"
   ]
  },
  {
   "cell_type": "code",
   "execution_count": 6,
   "metadata": {},
   "outputs": [
    {
     "data": {
      "text/plain": [
       "2"
      ]
     },
     "execution_count": 6,
     "metadata": {},
     "output_type": "execute_result"
    }
   ],
   "source": [
    "A[1]"
   ]
  },
  {
   "cell_type": "markdown",
   "metadata": {},
   "source": [
    "### Let's see the differences between the Python list and numpy array\n",
    "---\n",
    "Why numpy is better than Python list?\n",
    "1. Less memory is used\n",
    "2. It is faster to be executed\n",
    "3. Convenient, easy to used"
   ]
  },
  {
   "cell_type": "markdown",
   "metadata": {},
   "source": [
    "#### 1. Less Memory Usage"
   ]
  },
  {
   "cell_type": "code",
   "execution_count": 7,
   "metadata": {},
   "outputs": [
    {
     "name": "stdout",
     "output_type": "stream",
     "text": [
      "The size used by the Python list: 28000000 bytes\n",
      "The size used by the numpy array: 4000000 bytes\n"
     ]
    }
   ],
   "source": [
    "# Let's create a Python list to compare with it\n",
    "# But first, lets import sys to check the size\n",
    "import sys\n",
    "SIZE = 1000000\n",
    "\n",
    "# Creating a list with 1000 elements in it\n",
    "ls = range(SIZE)\n",
    "integer = 1 # Can be any number, we just want to insert the integer into the command below to get the size\n",
    "print(f'The size used by the Python list: {sys.getsizeof(integer) * len(ls)} bytes')\n",
    "\n",
    "# Creating a numpy array\n",
    "arr = np.arange(SIZE)\n",
    "print(f'The size used by the numpy array: {arr.size * arr.itemsize} bytes')\n",
    "# NOTE:\n",
    "# arr.size == 1000 \n",
    "# arr.itemsize == size of an elements in the array == 4"
   ]
  },
  {
   "cell_type": "markdown",
   "metadata": {},
   "source": [
    "#### 2. Faster to be executed & convenient"
   ]
  },
  {
   "cell_type": "code",
   "execution_count": 8,
   "metadata": {},
   "outputs": [
    {
     "name": "stdout",
     "output_type": "stream",
     "text": [
      "Python took 161.56792640686035ms\n",
      "Numpy took 14.333009719848633ms\n"
     ]
    }
   ],
   "source": [
    "# Let's see the execution time\n",
    "import time\n",
    "\n",
    "# Creating 2 Python lists\n",
    "L1 = range(SIZE)\n",
    "L2 = range(SIZE)\n",
    "\n",
    "N1 = np.arange(SIZE)\n",
    "N2 = np.arange(SIZE)\n",
    "\n",
    "# Testing time by adding up the corresponding elements from two lists\n",
    "start = time.time()\n",
    "result = [(x+y) for x, y in zip(L1, L2)]\n",
    "print(f'Python took {(time.time() - start) * 1000}ms')\n",
    "\n",
    "# Testing time by adding the corresponding elements from two numpy array\n",
    "start = time.time()\n",
    "result = N1 + N2\n",
    "print(f'Numpy took {(time.time() - start) * 1000}ms')"
   ]
  },
  {
   "cell_type": "code",
   "execution_count": null,
   "metadata": {},
   "outputs": [],
   "source": []
  },
  {
   "cell_type": "code",
   "execution_count": 9,
   "metadata": {},
   "outputs": [
    {
     "name": "stdout",
     "output_type": "stream",
     "text": [
      "[5 7 9]\n",
      "[-3 -3 -3]\n",
      "[ 4 10 18]\n",
      "[0.25 0.4  0.5 ]\n"
     ]
    }
   ],
   "source": [
    "# Basic operators\n",
    "A = np.array([1,2,3])\n",
    "B = np.array([4,5,6])\n",
    "\n",
    "# Addition\n",
    "print(A + B)\n",
    "\n",
    "# Substraction\n",
    "print(A - B)\n",
    "\n",
    "# Multiplication\n",
    "print(A * B)\n",
    "\n",
    "# Division\n",
    "print(A / B)\n"
   ]
  },
  {
   "cell_type": "code",
   "execution_count": null,
   "metadata": {},
   "outputs": [],
   "source": [
    "\n"
   ]
  },
  {
   "cell_type": "markdown",
   "metadata": {},
   "source": [
    "---"
   ]
  },
  {
   "cell_type": "markdown",
   "metadata": {},
   "source": [
    "### > Numpy Tutorial 2: Basic Array Operations\n",
    "Reference: https://www.youtube.com/watch?v=a8aDcLk4vRc"
   ]
  },
  {
   "cell_type": "markdown",
   "metadata": {},
   "source": [
    "#### Numpy Dimension & Data Types & Data Size"
   ]
  },
  {
   "cell_type": "code",
   "execution_count": 10,
   "metadata": {},
   "outputs": [
    {
     "name": "stdout",
     "output_type": "stream",
     "text": [
      "1\n"
     ]
    }
   ],
   "source": [
    "# Single Dimensional array\n",
    "sA = np.array([1,2,3])\n",
    "print(sA.ndim)"
   ]
  },
  {
   "cell_type": "code",
   "execution_count": 11,
   "metadata": {},
   "outputs": [
    {
     "name": "stdout",
     "output_type": "stream",
     "text": [
      "2\n",
      "The item size for one int32 element in the numpy array is 4 bytes\n"
     ]
    }
   ],
   "source": [
    "# Multidimensional array\n",
    "mA = np.array([ [1,2,3] , [3,4,5] , [5,6,7] ])\n",
    "print(mA.ndim)\n",
    "\n",
    "# Let's take a look at the item size\n",
    "print(f'The item size for one {mA.dtype} element in the numpy array is {mA.itemsize} bytes')"
   ]
  },
  {
   "cell_type": "code",
   "execution_count": 12,
   "metadata": {},
   "outputs": [
    {
     "name": "stdout",
     "output_type": "stream",
     "text": [
      "The item size for one float64 element in the numpy array is 8 bytes\n"
     ]
    }
   ],
   "source": [
    "# Let's change the integer of the array into float\n",
    "mA = np.array( [ [1,2,3], [3,4,5], [5,6,7] ], dtype=np.float64 ) # 64 bits = 8 bytes [1 byte = 8 bits]\n",
    "print(f'The item size for one {mA.dtype} element in the numpy array is {mA.itemsize} bytes')"
   ]
  },
  {
   "cell_type": "code",
   "execution_count": 13,
   "metadata": {},
   "outputs": [
    {
     "name": "stdout",
     "output_type": "stream",
     "text": [
      "The number of elements in the numpy array is 9.\n",
      "\n",
      "[[1. 2. 3.]\n",
      " [3. 4. 5.]\n",
      " [5. 6. 7.]]\n"
     ]
    }
   ],
   "source": [
    "# Checking the number of elements contained in the array\n",
    "print(f'The number of elements in the numpy array is {mA.size}.')\n",
    "\n",
    "# See the array\n",
    "print(f'\\n{mA}')"
   ]
  },
  {
   "cell_type": "code",
   "execution_count": 14,
   "metadata": {},
   "outputs": [
    {
     "data": {
      "text/plain": [
       "array([[1., 2., 3.],\n",
       "       [3., 4., 5.],\n",
       "       [5., 6., 7.]])"
      ]
     },
     "execution_count": 14,
     "metadata": {},
     "output_type": "execute_result"
    }
   ],
   "source": [
    "# Jupyter way of checking the content of the array\n",
    "mA"
   ]
  },
  {
   "cell_type": "code",
   "execution_count": 15,
   "metadata": {},
   "outputs": [
    {
     "name": "stdout",
     "output_type": "stream",
     "text": [
      "[[1.+0.j 2.+0.j 3.+0.j]\n",
      " [3.+0.j 4.+0.j 5.+0.j]\n",
      " [5.+0.j 6.+0.j 7.+0.j]]\n"
     ]
    }
   ],
   "source": [
    "# Let's see how to change the array type into any other type, in this case `complex`\n",
    "complexArr = mA.astype(complex)\n",
    "print(complexArr)"
   ]
  },
  {
   "cell_type": "markdown",
   "metadata": {},
   "source": [
    "#### Numpy Shape: Finding the rows and columns of the array"
   ]
  },
  {
   "cell_type": "code",
   "execution_count": 16,
   "metadata": {},
   "outputs": [
    {
     "name": "stdout",
     "output_type": "stream",
     "text": [
      "(3, 3)\n",
      "\n",
      "New array:\n",
      "[[1. 2.]\n",
      " [3. 4.]\n",
      " [5. 6.]]\n",
      "Shape: (3, 2)\n"
     ]
    }
   ],
   "source": [
    "# Getting the shape of the array || the (i, j) row and columns of the array\n",
    "print(mA.shape)\n",
    "\n",
    "# Let's see other example\n",
    "a = np.array([[1,2], [3,4], [5,6]], dtype=np.float64)\n",
    "print(f'\\nNew array:\\n{a}\\nShape: {a.shape}')"
   ]
  },
  {
   "cell_type": "markdown",
   "metadata": {},
   "source": [
    "#### Numpy Initialization"
   ]
  },
  {
   "cell_type": "code",
   "execution_count": 17,
   "metadata": {},
   "outputs": [
    {
     "name": "stdout",
     "output_type": "stream",
     "text": [
      "[[0. 0. 0. 0. 0. 0.]\n",
      " [0. 0. 0. 0. 0. 0.]\n",
      " [0. 0. 0. 0. 0. 0.]]\n"
     ]
    }
   ],
   "source": [
    "# Initialization your array with zeros\n",
    "zeroArr = np.zeros( (3,6) ) # (2, 6) here is the shape of the array you want\n",
    "print(zeroArr)"
   ]
  },
  {
   "cell_type": "code",
   "execution_count": 18,
   "metadata": {},
   "outputs": [
    {
     "name": "stdout",
     "output_type": "stream",
     "text": [
      "[[1. 1. 1. 1. 1.]\n",
      " [1. 1. 1. 1. 1.]]\n"
     ]
    }
   ],
   "source": [
    "# Initialization your array with ones\n",
    "oneArr = np.ones( (2,5) )\n",
    "print(oneArr)"
   ]
  },
  {
   "cell_type": "markdown",
   "metadata": {},
   "source": [
    "#### Numpy Arange"
   ]
  },
  {
   "cell_type": "code",
   "execution_count": 19,
   "metadata": {},
   "outputs": [
    {
     "name": "stdout",
     "output_type": "stream",
     "text": [
      "[1, 2, 3, 4]\n",
      "[1 2 3 4]\n",
      "[1 3 5 7 9]\n"
     ]
    }
   ],
   "source": [
    "# Putting range of number into an array\n",
    "\n",
    "# Python list way of setting range of elements into the list\n",
    "ls = range(1, 5)\n",
    "print(list(ls))\n",
    "\n",
    "# Numpy array way of setting range of elements into the array\n",
    "arr = np.arange(1, 5) # The last element is not included like usual\n",
    "print(arr)\n",
    "\n",
    "# Stepping forward\n",
    "arr = np.arange(1, 10, 2)\n",
    "print(arr)"
   ]
  },
  {
   "cell_type": "code",
   "execution_count": 20,
   "metadata": {},
   "outputs": [],
   "source": [
    "# Take a look at the documentary of the np.arange where there are some other attributes can be added\n",
    "?np.arange"
   ]
  },
  {
   "cell_type": "markdown",
   "metadata": {},
   "source": [
    "#### Numpy Linspace: Create an evenly spaced sequence in a specified interval"
   ]
  },
  {
   "cell_type": "code",
   "execution_count": 21,
   "metadata": {},
   "outputs": [
    {
     "name": "stdout",
     "output_type": "stream",
     "text": [
      "[ 0.  12.5 25.  37.5 50. ]\n",
      "[ 0 12 25 37 50]\n"
     ]
    }
   ],
   "source": [
    "# Another way of creating a numpy array\n",
    "# a = np.linspace(start, stop, numberOfElementInBetweenStart&Stop)\n",
    "linArr = np.linspace(0, 50, 5) # The stop is included as well\n",
    "print(linArr)\n",
    "\n",
    "# NOTE: That the dtype in linspace is float as they are creating elements which have the equal gaps\n",
    "# If you want it to be int\n",
    "linArr = np.linspace(0, 50, 5, dtype=np.int32) # linArr = linArr.astype(np.int32)\n",
    "print(linArr)"
   ]
  },
  {
   "cell_type": "code",
   "execution_count": 22,
   "metadata": {},
   "outputs": [],
   "source": [
    "?np.linspace"
   ]
  },
  {
   "cell_type": "markdown",
   "metadata": {},
   "source": [
    "#### Numpy Reshape: Reshaping the array"
   ]
  },
  {
   "cell_type": "code",
   "execution_count": 23,
   "metadata": {},
   "outputs": [
    {
     "name": "stdout",
     "output_type": "stream",
     "text": [
      "The array:\n",
      "[[1 2]\n",
      " [3 4]\n",
      " [5 6]]\n",
      "Shape of this array: (3, 2)\n",
      "\n",
      "\n",
      "The array:\n",
      "[[1 2 3]\n",
      " [4 5 6]]\n",
      "Shape of this array: (2, 3)\n",
      "\n",
      "\n",
      "The original array:\n",
      "[[1 2]\n",
      " [3 4]\n",
      " [5 6]]\n",
      "Shape of this array: (3, 2)\n",
      "You can see that the original array is not affected.\n",
      "\n",
      "\n",
      "The array:\n",
      "[[1]\n",
      " [2]\n",
      " [3]\n",
      " [4]\n",
      " [5]\n",
      " [6]]\n",
      "Shape of this array: (6, 1)\n",
      "The dimension of this array: 2\n",
      "The size of this array: 6\n",
      "The row of this array: 6\n",
      "The column of this array: 1\n"
     ]
    }
   ],
   "source": [
    "# Let's set up an array for clearer view\n",
    "arr = np.array( [[1,2], [3,4], [5,6]] )\n",
    "print(f'The array:\\n{arr}')\n",
    "print(f'Shape of this array: {arr.shape}\\n\\n')\n",
    "\n",
    "# Reshaping it to 2 rows and 3 columns\n",
    "reshaped = arr.reshape(2,3)\n",
    "print(f'The array:\\n{reshaped}')\n",
    "print(f'Shape of this array: {reshaped.shape}\\n\\n')\n",
    "\n",
    "# Let's see the original arr\n",
    "print(f'The original array:\\n{arr}')\n",
    "print(f'Shape of this array: {arr.shape}')\n",
    "print('You can see that the original array is not affected.\\n\\n')\n",
    "\n",
    "# As long as the size fit, you can reshape it into any shape\n",
    "weirdArr = arr.reshape(6,1)\n",
    "print(f'The array:\\n{weirdArr}')\n",
    "print(f'Shape of this array: {weirdArr.shape}')\n",
    "print(f'The dimension of this array: {weirdArr.ndim}')\n",
    "print(f'The size of this array: {weirdArr.size}')\n",
    "print(f'The row of this array: {weirdArr.shape[0]}')\n",
    "print(f'The column of this array: {weirdArr.shape[1]}')"
   ]
  },
  {
   "cell_type": "markdown",
   "metadata": {},
   "source": [
    "#### Numpy Ravel: Flattening your array"
   ]
  },
  {
   "cell_type": "code",
   "execution_count": 24,
   "metadata": {},
   "outputs": [
    {
     "name": "stdout",
     "output_type": "stream",
     "text": [
      "The array:\n",
      "[1 2 3 4 5 6]\n",
      "Shape of this array: (6,)\n",
      "The dimension of this array: 1\n",
      "The size of this array: 6\n",
      "The shape[0] of this array: 6\n"
     ]
    },
    {
     "ename": "IndexError",
     "evalue": "tuple index out of range",
     "output_type": "error",
     "traceback": [
      "\u001b[1;31m---------------------------------------------------------------------------\u001b[0m",
      "\u001b[1;31mIndexError\u001b[0m                                Traceback (most recent call last)",
      "\u001b[1;32m<ipython-input-24-f561a4bdbf32>\u001b[0m in \u001b[0;36m<module>\u001b[1;34m\u001b[0m\n\u001b[0;32m     10\u001b[0m \u001b[1;31m# Reference: https://stackoverflow.com/questions/39627852/why-does-the-shape-of-a-1d-array-not-show-the-number-of-rows-as-1/39627884\u001b[0m\u001b[1;33m\u001b[0m\u001b[1;33m\u001b[0m\u001b[1;33m\u001b[0m\u001b[0m\n\u001b[0;32m     11\u001b[0m \u001b[0mprint\u001b[0m\u001b[1;33m(\u001b[0m\u001b[1;34mf'The shape[0] of this array: {flattenedArr.shape[0]}'\u001b[0m\u001b[1;33m)\u001b[0m \u001b[1;31m# NOTE: That we didnt use row as there is no row and column for 1D array\u001b[0m\u001b[1;33m\u001b[0m\u001b[1;33m\u001b[0m\u001b[0m\n\u001b[1;32m---> 12\u001b[1;33m \u001b[0mprint\u001b[0m\u001b[1;33m(\u001b[0m\u001b[1;34mf'The shape[1] of this array: {flattenedArr.shape[1]}'\u001b[0m\u001b[1;33m)\u001b[0m \u001b[1;31m# An error occured here\u001b[0m\u001b[1;33m\u001b[0m\u001b[1;33m\u001b[0m\u001b[0m\n\u001b[0m",
      "\u001b[1;31mIndexError\u001b[0m: tuple index out of range"
     ]
    }
   ],
   "source": [
    "# Let's use weirdArr again to compare its shape, dimension and size\n",
    "weirdArr.ravel() # This is just to preview the flattened weirdArr but it will not update itself to the flattened version\n",
    "flattenedArr = weirdArr.ravel() # This will stored the flattened array into the var\n",
    "print(f'The array:\\n{flattenedArr}')\n",
    "print(f'Shape of this array: {flattenedArr.shape}')\n",
    "print(f'The dimension of this array: {flattenedArr.ndim}')\n",
    "print(f'The size of this array: {flattenedArr.size}')\n",
    "\n",
    "# Take a look at the shape of the array, what's the difference?\n",
    "# Reference: https://stackoverflow.com/questions/39627852/why-does-the-shape-of-a-1d-array-not-show-the-number-of-rows-as-1/39627884\n",
    "print(f'The shape[0] of this array: {flattenedArr.shape[0]}') # NOTE: That we didnt use row as there is no row and column for 1D array\n",
    "print(f'The shape[1] of this array: {flattenedArr.shape[1]}') # An error occured here"
   ]
  },
  {
   "cell_type": "markdown",
   "metadata": {},
   "source": [
    "#### Numpy Mathematical Function: Min, Max, Sum, Sqrt, Std"
   ]
  },
  {
   "cell_type": "code",
   "execution_count": 25,
   "metadata": {},
   "outputs": [
    {
     "name": "stdout",
     "output_type": "stream",
     "text": [
      "The array:\n",
      "[[1 2]\n",
      " [3 4]\n",
      " [5 6]]\n",
      "\n",
      "The max element in this array: 6\n",
      "The min element in this array: 1\n",
      "The sum elements in this array: 21\n",
      "The sum vertical elements in this array:\n",
      "[ 9 12]\n",
      "\n",
      "The sum horizontal elements in this array:\n",
      "[ 3  7 11]\n",
      "\n",
      "The square root for each element in the array:\n",
      "[[1.         1.41421356]\n",
      " [1.73205081 2.        ]\n",
      " [2.23606798 2.44948974]]\n",
      "\n",
      "Do note that the arr is not updated by the sqrt:\n",
      "[[1 2]\n",
      " [3 4]\n",
      " [5 6]]\n",
      "\n",
      "The standard deviation of this array using array function: 1.707825127659933\n",
      "The standard deviation of this array using generic function: 1.707825127659933\n"
     ]
    }
   ],
   "source": [
    "# Let's see an array\n",
    "print(f'The array:\\n{arr}\\n')\n",
    "\n",
    "# Getting the max\n",
    "print(f'The max element in this array: {arr.max()}')\n",
    "\n",
    "# Getting the min\n",
    "print(f'The min element in this array: {arr.min()}')\n",
    "\n",
    "# Getting the sum of the elements in the array\n",
    "print(f'The sum elements in this array: {arr.sum()}')\n",
    "\n",
    "# Let's add the elements according to the axis\n",
    "# Axis = 0 :: Vertical elements\n",
    "# Axis = 1 :: Horizontal elements\n",
    "print(f'The sum vertical elements in this array:\\n{arr.sum(axis=0)}\\n')\n",
    "print(f'The sum horizontal elements in this array:\\n{arr.sum(axis=1)}\\n') \n",
    "# NOTE: That the array shown is in 1D array format\n",
    "\n",
    "# Getting the square root for each element in the array :: np.sqrt :: generic function; not a array function\n",
    "print(f'The square root for each element in the array:\\n{np.sqrt(arr)}\\n')\n",
    "print(f'Do note that the arr is not updated by the sqrt:\\n{arr}\\n')\n",
    "\n",
    "# Getting the standard deviation using array function\n",
    "print(f'The standard deviation of this array using array function: {arr.std()}')\n",
    "print(f'The standard deviation of this array using generic function: {np.std(arr)}')"
   ]
  },
  {
   "cell_type": "markdown",
   "metadata": {},
   "source": [
    "#### 2D Array Mathematic Operations: matrix dot multiplication, +, -, *, /"
   ]
  },
  {
   "cell_type": "code",
   "execution_count": 26,
   "metadata": {},
   "outputs": [
    {
     "name": "stdout",
     "output_type": "stream",
     "text": [
      "Array 1:\n",
      "[[1 2]\n",
      " [3 4]]\n",
      "\n",
      "Array 2:\n",
      "[[5 6]\n",
      " [7 8]]\n",
      "\n",
      "\n",
      "A1 + A2:\n",
      "[[ 6  8]\n",
      " [10 12]]\n",
      "\n",
      "A2 - A1:\n",
      "[[4 4]\n",
      " [4 4]]\n",
      "\n",
      "A1 * A2:\n",
      "[[ 5 12]\n",
      " [21 32]]\n",
      "\n",
      "A2 / A1:\n",
      "[[5.         3.        ]\n",
      " [2.33333333 2.        ]]\n",
      "\n",
      "A2 • A1:\n",
      "[[19 22]\n",
      " [43 50]]\n",
      "\n"
     ]
    }
   ],
   "source": [
    "# Let's set up two 2D arrays\n",
    "A1 = np.array([ [1,2] , [3,4] ])\n",
    "A2 = np.array([ [5,6] , [7,8] ])\n",
    "\n",
    "# Reference of creating ranges for 2D array\n",
    "# https://stackoverflow.com/questions/56172814/how-to-create-a-2d-array-of-ranges-using-numpy\n",
    "\n",
    "print(f'Array 1:\\n{A1}\\n')\n",
    "print(f'Array 2:\\n{A2}\\n\\n')\n",
    "\n",
    "# Add\n",
    "print(f'A1 + A2:\\n{A1+A2}\\n')\n",
    "\n",
    "# Substract\n",
    "print(f'A2 - A1:\\n{A2-A1}\\n')\n",
    "\n",
    "# Multiplication [NOTE: This is not matrix dot multiplication]\n",
    "print(f'A1 * A2:\\n{A1*A2}\\n')\n",
    "\n",
    "# Division\n",
    "print(f'A2 / A1:\\n{A2/A1}\\n')\n",
    "\n",
    "# Dot Matrix multiplication\n",
    "print(f'A2 • A1:\\n{A1.dot(A2)}\\n')"
   ]
  },
  {
   "cell_type": "markdown",
   "metadata": {},
   "source": [
    "### > Numpy Tutorial 3: Slicing/Stacking Arrays, Indexing with Boolean Arrays\n",
    "Reference: https://www.youtube.com/watch?v=_d_Ka-ks2a0"
   ]
  },
  {
   "cell_type": "markdown",
   "metadata": {},
   "source": [
    "#### 1. Indexing & Slicing"
   ]
  },
  {
   "cell_type": "code",
   "execution_count": 2,
   "metadata": {},
   "outputs": [
    {
     "name": "stdout",
     "output_type": "stream",
     "text": [
      "[1 2]\n",
      "3\n",
      "3\n"
     ]
    }
   ],
   "source": [
    "# Let's create a numpy array again\n",
    "import numpy as np\n",
    "arr = np.array([1,2,3])\n",
    "\n",
    "# Slicing the array\n",
    "print(arr[0:2]) # NOTE: That the element on the index 2 is not included\n",
    "\n",
    "# Indexing the array\n",
    "print(arr[2])\n",
    "print(arr[-1])"
   ]
  },
  {
   "cell_type": "code",
   "execution_count": 33,
   "metadata": {},
   "outputs": [
    {
     "name": "stdout",
     "output_type": "stream",
     "text": [
      "The array:\n",
      "[[ 0  1  2]\n",
      " [ 4  5  6]\n",
      " [21 22 23]]\n",
      "\n",
      "arr[1,2] = 6\n",
      "\n",
      "The last row = [21 22 23]\n",
      "\n",
      "The last row's first and second element = [21 22]\n",
      "\n",
      "The last two columns elements = \n",
      "[[ 1  2]\n",
      " [ 5  6]\n",
      " [22 23]]\n",
      "\n",
      "The rows are...\n",
      "[0 1 2]\n",
      "[4 5 6]\n",
      "[21 22 23]\n"
     ]
    }
   ],
   "source": [
    "# Slicing and indexing on multidimensional array\n",
    "\n",
    "# Creating a multidimentional array using arange\n",
    "arr = np.arange(3) + np.array([0, 4, 21])[:, None]\n",
    "# [:, None] is not create the column for the array\n",
    "\n",
    "# Selecting the specified element in an array\n",
    "print(f'The array:\\n{arr}')\n",
    "print(f'\\narr[1,2] = {arr[1,2]}') # arr[x, y] where x is the row and y is the column\n",
    "\n",
    "# Selecting the row of the array\n",
    "print(f'\\nThe last row = {arr[-1]}')\n",
    "\n",
    "# Selecting few elements in a specified row\n",
    "print(f'\\nThe last row\\'s first and second element = {arr[-1, 0:2]}') # [row, column]\n",
    "\n",
    "# Selecting only columns\n",
    "print(f'\\nThe last two columns elements = \\n{arr[:, 1:3]}') # [row, column]\n",
    "\n",
    "# Looping the row of the array\n",
    "print('\\nThe rows are...')\n",
    "for row in arr:\n",
    "    print(row)"
   ]
  },
  {
   "cell_type": "markdown",
   "metadata": {},
   "source": [
    "#### Numpy Flat: Flattening the array"
   ]
  },
  {
   "cell_type": "code",
   "execution_count": 91,
   "metadata": {},
   "outputs": [
    {
     "name": "stdout",
     "output_type": "stream",
     "text": [
      "arr.ravel() = [ 0  1  2  3  4  5  6  7  8  9 10 11]\n",
      "list(arr.ravel()) = [0, 1, 2, 3, 4, 5, 6, 7, 8, 9, 10, 11]\n",
      "list(arr.flat) = [0, 1, 2, 3, 4, 5, 6, 7, 8, 9, 10, 11]\n",
      "arr.flatten() = [ 0  1  2  3  4  5  6  7  8  9 10 11]\n"
     ]
    }
   ],
   "source": [
    "# Ravel vs Flat\n",
    "\n",
    "# Ravel without list\n",
    "print(f'arr.ravel() = {arr.ravel()}')\n",
    "\n",
    "# Ravel with list\n",
    "print(f'list(arr.ravel()) = {list(arr.ravel())}')\n",
    "\n",
    "# Flat need list\n",
    "print(f'list(arr.flat) = {list(arr.flat)}')\n",
    "\n",
    "# Flatten without list\n",
    "print(f'arr.flatten() = {arr.flatten()}')"
   ]
  },
  {
   "cell_type": "markdown",
   "metadata": {},
   "source": [
    "#### What is the difference between arr.ravel() and arr.flatten()?\n",
    "Reference: https://www.geeksforgeeks.org/differences-flatten-ravel-numpy/\n",
    "\n",
    "a.ravel():\n",
    "(i) Return only reference/view of original array\n",
    "(ii) If you modify the array you would notice that the value of original array also changes.\n",
    "(iii) Ravel is faster than flatten() as it does not occupy any memory.\n",
    "(iv) Ravel is a library-level function.\n",
    "\n",
    "a.flatten() :\n",
    "(i) Return copy of original array\n",
    "(ii) If you modify any value of this array value of original array is not affected.\n",
    "(iii) Flatten() is comparatively slower than ravel() as it occupies memory.\n",
    "(iv) Flatten is a method of an ndarray object. \n"
   ]
  },
  {
   "cell_type": "code",
   "execution_count": 38,
   "metadata": {},
   "outputs": [
    {
     "name": "stdout",
     "output_type": "stream",
     "text": [
      "Array A:\n",
      "[[0 1]\n",
      " [2 3]\n",
      " [4 5]]\n",
      "\n",
      "Array B:\n",
      "[[ 6  7]\n",
      " [ 8  9]\n",
      " [10 11]]\n",
      "\n"
     ]
    }
   ],
   "source": [
    "# Creating a multidimentional array using arange [Simple version]\n",
    "A = np.arange(6).reshape(3,2) # (row, col)\n",
    "print(f'Array A:\\n{A}\\n')\n",
    "\n",
    "# Arange with starting and stopping\n",
    "B = np.arange(6, 12).reshape(3,2)\n",
    "print(f'Array B:\\n{B}\\n')"
   ]
  },
  {
   "cell_type": "markdown",
   "metadata": {},
   "source": [
    "#### Numpy VStack & HStack: Stacking two array together"
   ]
  },
  {
   "cell_type": "code",
   "execution_count": 47,
   "metadata": {},
   "outputs": [
    {
     "name": "stdout",
     "output_type": "stream",
     "text": [
      "Vertical Stacking\n",
      "The stack array (A, B):\n",
      "[[ 0  1]\n",
      " [ 2  3]\n",
      " [ 4  5]\n",
      " [ 6  7]\n",
      " [ 8  9]\n",
      " [10 11]]\n",
      "\n",
      "The stack array (B, A):\n",
      "[[ 6  7]\n",
      " [ 8  9]\n",
      " [10 11]\n",
      " [ 0  1]\n",
      " [ 2  3]\n",
      " [ 4  5]]\n",
      "\n"
     ]
    }
   ],
   "source": [
    "# VStack = Vertical Stacking\n",
    "print('Vertical Stacking')\n",
    "C = np.vstack( (A, B) )\n",
    "print(f'The stack array (A, B):\\n{C}\\n')\n",
    "\n",
    "D = np.vstack( (B, A) )\n",
    "print(f'The stack array (B, A):\\n{D}\\n')\n"
   ]
  },
  {
   "cell_type": "code",
   "execution_count": 49,
   "metadata": {},
   "outputs": [
    {
     "name": "stdout",
     "output_type": "stream",
     "text": [
      "Horizontal Stacking\n",
      "The stack array (A, B):\n",
      "[[ 0  1  6  7]\n",
      " [ 2  3  8  9]\n",
      " [ 4  5 10 11]]\n",
      "\n",
      "The stack array (B, A):\n",
      "[[ 6  7  0  1]\n",
      " [ 8  9  2  3]\n",
      " [10 11  4  5]]\n",
      "\n"
     ]
    }
   ],
   "source": [
    "# HStack = Horizontal Stacking\n",
    "print('Horizontal Stacking')\n",
    "C = np.hstack( (A, B) )\n",
    "print(f'The stack array (A, B):\\n{C}\\n')\n",
    "\n",
    "D = np.hstack( (B, A) )\n",
    "print(f'The stack array (B, A):\\n{D}\\n')"
   ]
  },
  {
   "cell_type": "markdown",
   "metadata": {},
   "source": [
    "#### Numpy VSplit & HSplit: Splitting a big array into two sub array "
   ]
  },
  {
   "cell_type": "code",
   "execution_count": 61,
   "metadata": {},
   "outputs": [
    {
     "name": "stdout",
     "output_type": "stream",
     "text": [
      "The array:\n",
      "[[ 0  1  2  3  4  5  6  7  8  9 10 11 12 13 14]\n",
      " [15 16 17 18 19 20 21 22 23 24 25 26 27 28 29]]\n",
      "\n",
      "Horizontal Splitting - np.hsplit(arr, x) where x is the number of split you want.\n",
      "======   -->   ===|===\n",
      "The first splitted array:\n",
      "[[ 0  1  2  3  4]\n",
      " [15 16 17 18 19]]\n",
      "\n",
      "The second splitted array:\n",
      "[[ 5  6  7  8  9]\n",
      " [20 21 22 23 24]]\n",
      "\n",
      "The third splitted array:\n",
      "[[10 11 12 13 14]\n",
      " [25 26 27 28 29]]\n",
      "\n"
     ]
    }
   ],
   "source": [
    "# Splitting the array into two small arrays\n",
    "\n",
    "# Creating an array with two rows\n",
    "arr = np.arange(30).reshape(2, 15)\n",
    "print(f'The array:\\n{arr}\\n')\n",
    "\n",
    "print('Horizontal Splitting - np.hsplit(arr, x) where x is the number of split you want.')\n",
    "print('======   -->   ===|===') # Make sure the array can be splitted equally\n",
    "\n",
    "# Splitting the arrays\n",
    "result = np.hsplit(arr, 3) # a, b, c = np.hsplit(arr, 3) also works\n",
    "print(f'The first splitted array:\\n{result[0]}\\n')\n",
    "print(f'The second splitted array:\\n{result[1]}\\n')\n",
    "print(f'The third splitted array:\\n{result[2]}\\n')\n",
    "\n",
    "# result = np.hsplit(arr, 2) <-- This is produce an error as array split does not result in an equal division"
   ]
  },
  {
   "cell_type": "code",
   "execution_count": 71,
   "metadata": {},
   "outputs": [
    {
     "name": "stdout",
     "output_type": "stream",
     "text": [
      "The array:\n",
      "[[ 0  1]\n",
      " [ 2  3]\n",
      " [ 4  5]\n",
      " [ 6  7]\n",
      " [ 8  9]\n",
      " [10 11]\n",
      " [12 13]\n",
      " [14 15]\n",
      " [16 17]\n",
      " [18 19]]\n",
      "\n",
      "Vertical Splitting - np.vsplit(arr, x) where x is the number of split you want.\n",
      " ==\n",
      " ==\n",
      " ==\n",
      " ==   \n",
      "\n",
      " vv\n",
      "\n",
      " ==\n",
      " ==\n",
      "----\n",
      " ==\n",
      " ==\n",
      "\n",
      "The first splitted array:\n",
      "[[0 1]\n",
      " [2 3]\n",
      " [4 5]\n",
      " [6 7]\n",
      " [8 9]]\n",
      "\n",
      "The second splitted array:\n",
      "[[10 11]\n",
      " [12 13]\n",
      " [14 15]\n",
      " [16 17]\n",
      " [18 19]]\n",
      "\n"
     ]
    }
   ],
   "source": [
    "# Vertical Splitting\n",
    "arr = np.arange(20).reshape(10, 2)\n",
    "print(f'The array:\\n{arr}\\n')\n",
    "\n",
    "print('Vertical Splitting - np.vsplit(arr, x) where x is the number of split you want.')\n",
    "print(' ==\\n ==\\n ==\\n ==   \\n\\n vv\\n\\n ==\\n ==\\n----\\n ==\\n ==\\n') \n",
    "# Make sure the array can be splitted equally\n",
    "\n",
    "# Let's try the vertical splitting\n",
    "result = np.vsplit(arr, 2)\n",
    "print(f'The first splitted array:\\n{result[0]}\\n')\n",
    "print(f'The second splitted array:\\n{result[1]}\\n')\n"
   ]
  },
  {
   "cell_type": "markdown",
   "metadata": {},
   "source": [
    "#### Numpy Comparing & Replacing Elements"
   ]
  },
  {
   "cell_type": "code",
   "execution_count": 84,
   "metadata": {},
   "outputs": [
    {
     "name": "stdout",
     "output_type": "stream",
     "text": [
      "[[ 0  1  2]\n",
      " [ 3  4  5]\n",
      " [ 6  7  8]\n",
      " [ 9 10 11]\n",
      " [12 13 14]]\n",
      "\n",
      "[[False False False]\n",
      " [False False False]\n",
      " [ True  True  True]\n",
      " [ True  True  True]\n",
      " [ True  True  True]]\n",
      "\n",
      "[[14 13 12]\n",
      " [11 10  9]\n",
      " [ 8  7  6]\n",
      " [ 5  4  3]\n",
      " [ 2  1  0]]\n",
      "\n",
      "[[ True  True  True]\n",
      " [ True  True  True]\n",
      " [ True False False]\n",
      " [False False False]\n",
      " [False False False]]\n",
      "\n",
      "[14 13 12 11 10  9  8]\n",
      "\n",
      "[[-1 -1 -1]\n",
      " [-1 -1 -1]\n",
      " [-1  7  6]\n",
      " [ 5  4  3]\n",
      " [ 2  1  0]]\n"
     ]
    }
   ],
   "source": [
    "A = np.arange(15).reshape(5, 3)\n",
    "print(A)\n",
    "\n",
    "# Comparing the elements with a number\n",
    "com = A > 5\n",
    "print(f'\\n{com}') # dtype = bool\n",
    "\n",
    "# Comparing between two arrays\n",
    "B = np.arange(14, -1, -1).reshape(5, 3)\n",
    "print(f'\\n{B}')\n",
    "\n",
    "com = B > A\n",
    "print(f'\\n{com}')\n",
    "\n",
    "# Getting the list of elements that are true in com array\n",
    "print(f'\\n{B[com]}')\n",
    "\n",
    "# Replacing all the True element into other element\n",
    "B[com] = -1\n",
    "print(f'\\n{B}')\n"
   ]
  },
  {
   "cell_type": "markdown",
   "metadata": {},
   "source": [
    "### > Numpy Tutorial 3: Nditer - Iterate numpy array\n",
    "Reference: https://www.youtube.com/watch?v=XawR6CjAYV4  \n",
    "Documentation: https://numpy.org/doc/stable/reference/generated/numpy.nditer.html"
   ]
  },
  {
   "cell_type": "code",
   "execution_count": 112,
   "metadata": {},
   "outputs": [
    {
     "name": "stdout",
     "output_type": "stream",
     "text": [
      "Array:\n",
      "[[ 0  1  2  3]\n",
      " [ 4  5  6  7]\n",
      " [ 8  9 10 11]]\n",
      "\n"
     ]
    }
   ],
   "source": [
    "# Creating a numpy array\n",
    "arr = np.arange(12).reshape(3, 4)\n",
    "print(f'Array:\\n{arr}\\n')"
   ]
  },
  {
   "cell_type": "code",
   "execution_count": 113,
   "metadata": {},
   "outputs": [
    {
     "name": "stdout",
     "output_type": "stream",
     "text": [
      "0\n",
      "1\n",
      "2\n",
      "3\n",
      "4\n",
      "5\n",
      "6\n",
      "7\n",
      "8\n",
      "9\n",
      "10\n",
      "11\n"
     ]
    }
   ],
   "source": [
    "# Simple for loop for printing the list of elements\n",
    "for row in arr:\n",
    "    for cell in row:\n",
    "        print(cell)"
   ]
  },
  {
   "cell_type": "code",
   "execution_count": 114,
   "metadata": {},
   "outputs": [
    {
     "name": "stdout",
     "output_type": "stream",
     "text": [
      "0\n",
      "1\n",
      "2\n",
      "3\n",
      "4\n",
      "5\n",
      "6\n",
      "7\n",
      "8\n",
      "9\n",
      "10\n",
      "11\n"
     ]
    }
   ],
   "source": [
    "# Another flatten method, check out `Numpy Flat: Flattening the array` above\n",
    "for cell in arr.flatten():\n",
    "    print(cell)"
   ]
  },
  {
   "cell_type": "markdown",
   "metadata": {},
   "source": [
    "#### Using np.nditer(arr, order='?')\n",
    "Where ? can be\n",
    "1. C :: Counting from left to right on the first row then to the next row\n",
    "2. F :: Counting from up to down from the first column then to the right column"
   ]
  },
  {
   "cell_type": "code",
   "execution_count": 115,
   "metadata": {},
   "outputs": [
    {
     "name": "stdout",
     "output_type": "stream",
     "text": [
      "Array:\n",
      "[[ 0  1  2  3]\n",
      " [ 4  5  6  7]\n",
      " [ 8  9 10 11]]\n",
      "\n",
      "0\n",
      "1\n",
      "2\n",
      "3\n",
      "4\n",
      "5\n",
      "6\n",
      "7\n",
      "8\n",
      "9\n",
      "10\n",
      "11\n"
     ]
    }
   ],
   "source": [
    "# Let's try C order\n",
    "print(f'Array:\\n{arr}\\n')\n",
    "for cell in np.nditer(arr, order='C'):\n",
    "    print(cell)"
   ]
  },
  {
   "cell_type": "code",
   "execution_count": 116,
   "metadata": {},
   "outputs": [
    {
     "name": "stdout",
     "output_type": "stream",
     "text": [
      "Array:\n",
      "[[ 0  1  2  3]\n",
      " [ 4  5  6  7]\n",
      " [ 8  9 10 11]]\n",
      "\n",
      "0\n",
      "4\n",
      "8\n",
      "1\n",
      "5\n",
      "9\n",
      "2\n",
      "6\n",
      "10\n",
      "3\n",
      "7\n",
      "11\n"
     ]
    }
   ],
   "source": [
    "# Let's try F order\n",
    "print(f'Array:\\n{arr}\\n')\n",
    "for cell in np.nditer(arr, order='F'):\n",
    "    print(cell)"
   ]
  },
  {
   "cell_type": "code",
   "execution_count": 117,
   "metadata": {},
   "outputs": [
    {
     "name": "stdout",
     "output_type": "stream",
     "text": [
      "Array:\n",
      "[[ 0  1  2  3]\n",
      " [ 4  5  6  7]\n",
      " [ 8  9 10 11]]\n",
      "\n",
      "[0 4 8]\n",
      "[1 5 9]\n",
      "[ 2  6 10]\n",
      "[ 3  7 11]\n",
      "\n",
      "Transpose Array:\n",
      "[[ 0  4  8]\n",
      " [ 1  5  9]\n",
      " [ 2  6 10]\n",
      " [ 3  7 11]]\n",
      "\n"
     ]
    }
   ],
   "source": [
    "# Flags = external_loop where something like transpose\n",
    "print(f'Array:\\n{arr}\\n')\n",
    "for cell in np.nditer(arr, order='F', flags=['external_loop']):\n",
    "    print(cell)\n",
    "\n",
    "print(f'\\nTranspose Array:\\n{arr.T}\\n')"
   ]
  },
  {
   "cell_type": "code",
   "execution_count": 123,
   "metadata": {},
   "outputs": [
    {
     "name": "stdout",
     "output_type": "stream",
     "text": [
      "Array:\n",
      "[[ 0  1  2  3]\n",
      " [ 4  5  6  7]\n",
      " [ 8  9 10 11]]\n",
      "\n",
      "0\n",
      "1\n",
      "4\n",
      "9\n",
      "16\n",
      "25\n",
      "36\n",
      "49\n",
      "64\n",
      "81\n",
      "100\n",
      "121\n",
      "\n",
      "Updated array:\n",
      "[[  0   1   4   9]\n",
      " [ 16  25  36  49]\n",
      " [ 64  81 100 121]]\n",
      "\n"
     ]
    }
   ],
   "source": [
    "# op_flags = readwrite :: Updating the elements\n",
    "arr = np.arange(12).reshape(3, 4)\n",
    "print(f'Array:\\n{arr}\\n')\n",
    "\n",
    "for x in np.nditer(arr, op_flags=['readwrite']):\n",
    "    x[...] = x**2\n",
    "    print(x)\n",
    "\n",
    "print(f'\\nUpdated array:\\n{arr}\\n')"
   ]
  },
  {
   "cell_type": "markdown",
   "metadata": {},
   "source": [
    "#### Iterating two arrays simultaneously"
   ]
  },
  {
   "cell_type": "code",
   "execution_count": 126,
   "metadata": {},
   "outputs": [
    {
     "name": "stdout",
     "output_type": "stream",
     "text": [
      "Array:\n",
      "[[ 0  1  2  3]\n",
      " [ 4  5  6  7]\n",
      " [ 8  9 10 11]]\n",
      "\n",
      "Array:\n",
      "[[ 3]\n",
      " [ 7]\n",
      " [11]]\n",
      "\n"
     ]
    }
   ],
   "source": [
    "# Creating two new arrays\n",
    "A = np.arange(12).reshape(3, 4)\n",
    "print(f'Array:\\n{A}\\n')\n",
    "\n",
    "B = np.arange(3, 15, 4).reshape(3, 1)\n",
    "print(f'Array:\\n{B}\\n')"
   ]
  },
  {
   "cell_type": "code",
   "execution_count": 128,
   "metadata": {},
   "outputs": [
    {
     "name": "stdout",
     "output_type": "stream",
     "text": [
      "0 3\n",
      "1 3\n",
      "2 3\n",
      "3 3\n",
      "4 7\n",
      "5 7\n",
      "6 7\n",
      "7 7\n",
      "8 11\n",
      "9 11\n",
      "10 11\n",
      "11 11\n"
     ]
    }
   ],
   "source": [
    "# Iterating two arrays simultaneously\n",
    "for x, y in np.nditer([A, B]):\n",
    "    print(x, y)"
   ]
  },
  {
   "cell_type": "code",
   "execution_count": 135,
   "metadata": {},
   "outputs": [
    {
     "name": "stdout",
     "output_type": "stream",
     "text": [
      "Array:\n",
      "[[ 3]\n",
      " [ 8]\n",
      " [13]\n",
      " [18]]\n",
      "\n"
     ]
    },
    {
     "ename": "ValueError",
     "evalue": "operands could not be broadcast together with shapes (3,4) (4,1) ",
     "output_type": "error",
     "traceback": [
      "\u001b[1;31m---------------------------------------------------------------------------\u001b[0m",
      "\u001b[1;31mValueError\u001b[0m                                Traceback (most recent call last)",
      "\u001b[1;32m<ipython-input-135-05c65f3625bd>\u001b[0m in \u001b[0;36m<module>\u001b[1;34m\u001b[0m\n\u001b[0;32m      4\u001b[0m \u001b[1;33m\u001b[0m\u001b[0m\n\u001b[0;32m      5\u001b[0m \u001b[1;31m# ValueError: operands could not be broadcast together with shapes (3,4) (4,1)\u001b[0m\u001b[1;33m\u001b[0m\u001b[1;33m\u001b[0m\u001b[1;33m\u001b[0m\u001b[0m\n\u001b[1;32m----> 6\u001b[1;33m \u001b[1;32mfor\u001b[0m \u001b[0mx\u001b[0m\u001b[1;33m,\u001b[0m \u001b[0my\u001b[0m \u001b[1;32min\u001b[0m \u001b[0mnp\u001b[0m\u001b[1;33m.\u001b[0m\u001b[0mnditer\u001b[0m\u001b[1;33m(\u001b[0m\u001b[1;33m[\u001b[0m\u001b[0mA\u001b[0m\u001b[1;33m,\u001b[0m \u001b[0mC\u001b[0m\u001b[1;33m]\u001b[0m\u001b[1;33m)\u001b[0m\u001b[1;33m:\u001b[0m\u001b[1;33m\u001b[0m\u001b[1;33m\u001b[0m\u001b[0m\n\u001b[0m\u001b[0;32m      7\u001b[0m     \u001b[0mprint\u001b[0m\u001b[1;33m(\u001b[0m\u001b[0mx\u001b[0m\u001b[1;33m,\u001b[0m \u001b[0my\u001b[0m\u001b[1;33m)\u001b[0m\u001b[1;33m\u001b[0m\u001b[1;33m\u001b[0m\u001b[0m\n",
      "\u001b[1;31mValueError\u001b[0m: operands could not be broadcast together with shapes (3,4) (4,1) "
     ]
    }
   ],
   "source": [
    "# Try iterating with another array which is not compatible\n",
    "C = np.arange(3, 19, 5).reshape(4,1)\n",
    "print(f'Array:\\n{C}\\n')\n",
    "\n",
    "# ValueError: operands could not be broadcast together with shapes (3,4) (4,1) \n",
    "for x, y in np.nditer([A, C]):\n",
    "    print(x, y)"
   ]
  },
  {
   "cell_type": "code",
   "execution_count": 136,
   "metadata": {},
   "outputs": [
    {
     "name": "stdout",
     "output_type": "stream",
     "text": [
      "Array:\n",
      "[[ 3  8 13 18]]\n",
      "\n",
      "0 3\n",
      "1 8\n",
      "2 13\n",
      "3 18\n",
      "4 3\n",
      "5 8\n",
      "6 13\n",
      "7 18\n",
      "8 3\n",
      "9 8\n",
      "10 13\n",
      "11 18\n"
     ]
    }
   ],
   "source": [
    "# Try iterating with another array which is not compatible\n",
    "C = np.arange(3, 19, 5).reshape(1,4)\n",
    "print(f'Array:\\n{C}\\n')\n",
    "\n",
    "for x, y in np.nditer([A, C]):\n",
    "    print(x, y)"
   ]
  }
 ],
 "metadata": {
  "kernelspec": {
   "display_name": "Python 3",
   "language": "python",
   "name": "python3"
  },
  "language_info": {
   "codemirror_mode": {
    "name": "ipython",
    "version": 3
   },
   "file_extension": ".py",
   "mimetype": "text/x-python",
   "name": "python",
   "nbconvert_exporter": "python",
   "pygments_lexer": "ipython3",
   "version": "3.8.5"
  }
 },
 "nbformat": 4,
 "nbformat_minor": 4
}
